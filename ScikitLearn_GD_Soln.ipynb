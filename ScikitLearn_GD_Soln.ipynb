{
  "cells": [
    {
      "cell_type": "markdown",
      "metadata": {
        "id": "view-in-github",
        "colab_type": "text"
      },
      "source": [
        "<a href=\"https://colab.research.google.com/github/PaiSuryaDarshan/ML_Standford/blob/main/ScikitLearn_GD_Soln.ipynb\" target=\"_parent\"><img src=\"https://colab.research.google.com/assets/colab-badge.svg\" alt=\"Open In Colab\"/></a>"
      ]
    },
    {
      "cell_type": "markdown",
      "metadata": {
        "id": "oguLm3OBmq9v"
      },
      "source": [
        "# Optional Lab: Linear Regression using Scikit-Learn"
      ],
      "id": "oguLm3OBmq9v"
    },
    {
      "cell_type": "markdown",
      "metadata": {
        "id": "844kD06tmq9x"
      },
      "source": [
        "There is an open-source, commercially usable machine learning toolkit called [scikit-learn](https://scikit-learn.org/stable/index.html). This toolkit contains implementations of many of the algorithms that you will work with in this course.\n",
        "\n"
      ],
      "id": "844kD06tmq9x"
    },
    {
      "cell_type": "markdown",
      "metadata": {
        "id": "_Oz4_x5Smq9x"
      },
      "source": [
        "## Goals\n",
        "In this lab you will:\n",
        "- Utilize  scikit-learn to implement linear regression using Gradient Descent"
      ],
      "id": "_Oz4_x5Smq9x"
    },
    {
      "cell_type": "markdown",
      "metadata": {
        "id": "i6OlixoImq9x"
      },
      "source": [
        "## Tools\n",
        "You will utilize functions from scikit-learn as well as matplotlib and NumPy."
      ],
      "id": "i6OlixoImq9x"
    },
    {
      "cell_type": "code",
      "execution_count": null,
      "metadata": {
        "id": "B8otr-9Qmq9y"
      },
      "outputs": [],
      "source": [
        "import numpy as np\n",
        "import matplotlib.pyplot as plt\n",
        "from sklearn.linear_model import SGDRegressor\n",
        "from sklearn.preprocessing import StandardScaler\n",
        "from lab_utils_multi import  load_house_data\n",
        "from lab_utils_common import dlc\n",
        "np.set_printoptions(precision=2)\n",
        "plt.style.use('./deeplearning.mplstyle')"
      ],
      "id": "B8otr-9Qmq9y"
    },
    {
      "cell_type": "markdown",
      "metadata": {
        "id": "Q9K2djZumq9z"
      },
      "source": [
        "# Gradient Descent\n",
        "Scikit-learn has a gradient descent regression model [sklearn.linear_model.SGDRegressor](https://scikit-learn.org/stable/modules/generated/sklearn.linear_model.SGDRegressor.html#examples-using-sklearn-linear-model-sgdregressor).  Like your previous implementation of gradient descent, this model performs best with normalized inputs. [sklearn.preprocessing.StandardScaler](https://scikit-learn.org/stable/modules/generated/sklearn.preprocessing.StandardScaler.html#sklearn.preprocessing.StandardScaler) will perform z-score normalization as in a previous lab. Here it is referred to as 'standard score'."
      ],
      "id": "Q9K2djZumq9z"
    },
    {
      "cell_type": "markdown",
      "metadata": {
        "id": "F7MrJe4-mq9z"
      },
      "source": [
        "### Load the data set"
      ],
      "id": "F7MrJe4-mq9z"
    },
    {
      "cell_type": "code",
      "execution_count": null,
      "metadata": {
        "id": "a_bMSUrnmq9z"
      },
      "outputs": [],
      "source": [
        "X_train, y_train = load_house_data()\n",
        "X_features = ['size(sqft)','bedrooms','floors','age']"
      ],
      "id": "a_bMSUrnmq9z"
    },
    {
      "cell_type": "markdown",
      "metadata": {
        "id": "gVS3rzq_mq9z"
      },
      "source": [
        "### Scale/normalize the training data"
      ],
      "id": "gVS3rzq_mq9z"
    },
    {
      "cell_type": "code",
      "execution_count": null,
      "metadata": {
        "id": "7iCF-TD4mq9z"
      },
      "outputs": [],
      "source": [
        "scaler = StandardScaler()\n",
        "X_norm = scaler.fit_transform(X_train)\n",
        "print(f\"Peak to Peak range by column in Raw        X:{np.ptp(X_train,axis=0)}\")\n",
        "print(f\"Peak to Peak range by column in Normalized X:{np.ptp(X_norm,axis=0)}\")"
      ],
      "id": "7iCF-TD4mq9z"
    },
    {
      "cell_type": "markdown",
      "metadata": {
        "id": "mzFOXRMsmq90"
      },
      "source": [
        "### Create and fit the regression model"
      ],
      "id": "mzFOXRMsmq90"
    },
    {
      "cell_type": "code",
      "execution_count": null,
      "metadata": {
        "id": "lbD-spnUmq90"
      },
      "outputs": [],
      "source": [
        "sgdr = SGDRegressor(max_iter=1000)\n",
        "sgdr.fit(X_norm, y_train)\n",
        "print(sgdr)\n",
        "print(f\"number of iterations completed: {sgdr.n_iter_}, number of weight updates: {sgdr.t_}\")"
      ],
      "id": "lbD-spnUmq90"
    },
    {
      "cell_type": "markdown",
      "metadata": {
        "id": "kZKn28REmq90"
      },
      "source": [
        "### View parameters\n",
        "Note, the parameters are associated with the *normalized* input data. The fit parameters are very close to those found in the previous lab with this data."
      ],
      "id": "kZKn28REmq90"
    },
    {
      "cell_type": "code",
      "execution_count": null,
      "metadata": {
        "id": "ZKFbD3GKmq90"
      },
      "outputs": [],
      "source": [
        "b_norm = sgdr.intercept_\n",
        "w_norm = sgdr.coef_\n",
        "print(f\"model parameters:                   w: {w_norm}, b:{b_norm}\")\n",
        "print( \"model parameters from previous lab: w: [110.56 -21.27 -32.71 -37.97], b: 363.16\")"
      ],
      "id": "ZKFbD3GKmq90"
    },
    {
      "cell_type": "markdown",
      "metadata": {
        "id": "yPLw7V54mq90"
      },
      "source": [
        "### Make predictions\n",
        "Predict the targets of the training data. Use both the `predict` routine and compute using $w$ and $b$."
      ],
      "id": "yPLw7V54mq90"
    },
    {
      "cell_type": "code",
      "execution_count": null,
      "metadata": {
        "id": "TU2BVpPvmq90"
      },
      "outputs": [],
      "source": [
        "# make a prediction using sgdr.predict()\n",
        "y_pred_sgd = sgdr.predict(X_norm)\n",
        "# make a prediction using w,b.\n",
        "y_pred = np.dot(X_norm, w_norm) + b_norm\n",
        "print(f\"prediction using np.dot() and sgdr.predict match: {(y_pred == y_pred_sgd).all()}\")\n",
        "\n",
        "print(f\"Prediction on training set:\\n{y_pred[:4]}\" )\n",
        "print(f\"Target values \\n{y_train[:4]}\")"
      ],
      "id": "TU2BVpPvmq90"
    },
    {
      "cell_type": "markdown",
      "metadata": {
        "id": "-HtVBYi1mq90"
      },
      "source": [
        "### Plot Results\n",
        "Let's plot the predictions versus the target values."
      ],
      "id": "-HtVBYi1mq90"
    },
    {
      "cell_type": "code",
      "execution_count": null,
      "metadata": {
        "id": "Z-jYFHSjmq90"
      },
      "outputs": [],
      "source": [
        "# plot predictions and targets vs original features\n",
        "fig,ax=plt.subplots(1,4,figsize=(12,3),sharey=True)\n",
        "for i in range(len(ax)):\n",
        "    ax[i].scatter(X_train[:,i],y_train, label = 'target')\n",
        "    ax[i].set_xlabel(X_features[i])\n",
        "    ax[i].scatter(X_train[:,i],y_pred,color=dlc[\"dlorange\"], label = 'predict')\n",
        "ax[0].set_ylabel(\"Price\"); ax[0].legend();\n",
        "fig.suptitle(\"target versus prediction using z-score normalized model\")\n",
        "plt.show()"
      ],
      "id": "Z-jYFHSjmq90"
    },
    {
      "cell_type": "markdown",
      "metadata": {
        "id": "D7DQilutmq90"
      },
      "source": [
        "## Congratulations!\n",
        "In this lab you:\n",
        "- utilized an open-source machine learning toolkit, scikit-learn\n",
        "- implemented linear regression using gradient descent and feature normalization from that toolkit"
      ],
      "id": "D7DQilutmq90"
    },
    {
      "cell_type": "code",
      "execution_count": null,
      "metadata": {
        "id": "HOncDN03mq91"
      },
      "outputs": [],
      "source": [],
      "id": "HOncDN03mq91"
    }
  ],
  "metadata": {
    "kernelspec": {
      "display_name": "Python 3",
      "language": "python",
      "name": "python3"
    },
    "language_info": {
      "codemirror_mode": {
        "name": "ipython",
        "version": 3
      },
      "file_extension": ".py",
      "mimetype": "text/x-python",
      "name": "python",
      "nbconvert_exporter": "python",
      "pygments_lexer": "ipython3",
      "version": "3.7.6"
    },
    "colab": {
      "provenance": [],
      "include_colab_link": true
    }
  },
  "nbformat": 4,
  "nbformat_minor": 5
}